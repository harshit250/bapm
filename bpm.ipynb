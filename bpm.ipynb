{
 "cells": [
  {
   "cell_type": "code",
   "execution_count": 1,
   "metadata": {},
   "outputs": [],
   "source": [
    "import numpy \n",
    "import time\n"
   ]
  },
  {
   "cell_type": "code",
   "execution_count": 2,
   "metadata": {},
   "outputs": [],
   "source": [
    "def binom_tree_call_put(N,T,S0,sigma,r,k,call=True,array_out=False):\n",
    "    dt=T/N\n",
    "    u=numpy.exp(sigma*numpy.sqrt(dt))\n",
    "    d=1/u\n",
    "    p=(numpy.exp(r*dt)-d)/(u-d)\n",
    "    \n",
    "    \n",
    "    price_tree = numpy.zeros([N+1,N+1])\n",
    "    \n",
    "    for i in range(N+1):\n",
    "        for j in range(i+1):\n",
    "            price_tree[j,i] = S0*(d**j)*(u**(i-j))\n",
    "            \n",
    "            \n",
    "    option = numpy.zeros([N+1,N+1])\n",
    "    if call:\n",
    "            option[:,N]=numpy.maximum(numpy.zeros(N+1),price_tree[:,N]-k)\n",
    "\n",
    "    else:\n",
    "            option[:,N]=numpy.maximum(numpy.zeros(N+1),k-price_tree[:,N])\n",
    "\n",
    "    option[:,N]=numpy.maximum(numpy.zeros(N+1),price_tree[:,N]-k)\n",
    "    \n",
    "    for i in numpy.arange(N-1,-1,-1):\n",
    "        for j in numpy.arange(0,i+1):\n",
    "            option[j,i] = numpy.exp(-r*dt)*(p*option[j,i+1])\n",
    "            \n",
    "    if array_out:\n",
    "        return [option[0,0],price_tree,option]\n",
    "    else:\n",
    "        return option[0,0]"
   ]
  },
  {
   "cell_type": "code",
   "execution_count": 5,
   "metadata": {},
   "outputs": [
    {
     "name": "stdout",
     "output_type": "stream",
     "text": [
      "0.09877347946166992\n"
     ]
    }
   ],
   "source": [
    "start_time = time.time()\n",
    "for i in range(1000):\n",
    "    (binom_tree_call_put(N=5,T=1,S0=100,sigma=0.2,r=0.06,k=9,call=True,array_out=False))\n",
    "end_time = time.time()\n",
    "print(end_time-start_time)"
   ]
  },
  {
   "cell_type": "code",
   "execution_count": null,
   "metadata": {},
   "outputs": [],
   "source": []
  }
 ],
 "metadata": {
  "kernelspec": {
   "display_name": "Python 3",
   "language": "python",
   "name": "python3"
  },
  "language_info": {
   "codemirror_mode": {
    "name": "ipython",
    "version": 3
   },
   "file_extension": ".py",
   "mimetype": "text/x-python",
   "name": "python",
   "nbconvert_exporter": "python",
   "pygments_lexer": "ipython3",
   "version": "3.8.3"
  }
 },
 "nbformat": 4,
 "nbformat_minor": 4
}
